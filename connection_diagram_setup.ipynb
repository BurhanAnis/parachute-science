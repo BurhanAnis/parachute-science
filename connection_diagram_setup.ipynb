{
 "cells": [
  {
   "cell_type": "code",
   "execution_count": null,
   "metadata": {},
   "outputs": [],
   "source": [
    "import pandas as pd\n",
    "from pandas import DataFrame\n",
    "import numpy as np\n",
    "import matplotlib.pyplot as plt"
   ]
  },
  {
   "cell_type": "markdown",
   "metadata": {},
   "source": [
    "# Creating Sankey Diagram (Connection Diagram)\n",
    "\n",
    "### we want to create a visualisation that shows how many times (value) a country performing research (the source country) has utilised a foreign study site (target). \n",
    "\n",
    "### we find source-target pairs using the .groupby() and .count() methods, and find the number of instances of a given source-target pair through a the .unique() and .values() method\n",
    "\n",
    "### we store this as a dictionary"
   ]
  },
  {
   "cell_type": "code",
   "execution_count": null,
   "metadata": {},
   "outputs": [],
   "source": [
    "#set up connection diagram array\n",
    "df_temp = df.groupby([\"First Author Affiliation \", \"Study Site\"])[\"Titles\"].count().reset_index()\n",
    "df_temp.columns = [\"source\", \"target\", \"value\"]\n",
    "\n",
    "unique = list(pd.unique(df_temp[[\"source\", \"target\"]].values.ravel(\"K\")))\n",
    "\n",
    "mapping = {k: v for v, k in enumerate(unique)}\n",
    "\n",
    "df_temp[\"source\"] = df_temp[\"source\"].map(mapping)\n",
    "df_temp[\"target\"] = df_temp[\"target\"].map(mapping)\n",
    "\n",
    "df_temp_dict = df_temp.to_dict(orient = \"list\")\n",
    "\n",
    "inv_map = {v: k for k, v in mapping.items()}\n",
    "\n",
    "final = df_temp.replace({'source': inv_map, 'target': inv_map})"
   ]
  }
 ],
 "metadata": {
  "kernelspec": {
   "display_name": "Python 3",
   "language": "python",
   "name": "python3"
  },
  "language_info": {
   "codemirror_mode": {
    "name": "ipython",
    "version": 3
   },
   "file_extension": ".py",
   "mimetype": "text/x-python",
   "name": "python",
   "nbconvert_exporter": "python",
   "pygments_lexer": "ipython3",
   "version": "3.8.3"
  }
 },
 "nbformat": 4,
 "nbformat_minor": 4
}
