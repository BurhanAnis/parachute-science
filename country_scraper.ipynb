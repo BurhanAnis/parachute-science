{
 "cells": [
  {
   "cell_type": "code",
   "execution_count": 1,
   "metadata": {},
   "outputs": [
    {
     "name": "stderr",
     "output_type": "stream",
     "text": [
      "/opt/anaconda3/lib/python3.8/site-packages/pandas/core/computation/expressions.py:20: UserWarning: Pandas requires version '2.7.3' or newer of 'numexpr' (version '2.7.1' currently installed).\n",
      "  from pandas.core.computation.check import NUMEXPR_INSTALLED\n"
     ]
    }
   ],
   "source": [
    "\"\"\"Importing relavant modules\"\"\"\n",
    "\n",
    "%matplotlib inline\n",
    "import numpy as np\n",
    "import pandas as pd #for data structures\n",
    "from pandas import DataFrame\n",
    "import matplotlib.pyplot as plt\n",
    "import pycountry as pc #this package stores country names and codes"
   ]
  },
  {
   "cell_type": "code",
   "execution_count": null,
   "metadata": {},
   "outputs": [],
   "source": [
    "\"\"\"Import data\"\"\"\n",
    "\n",
    "data = pd.read_csv('Parchute science - search 1.csv')"
   ]
  },
  {
   "cell_type": "code",
   "execution_count": 2,
   "metadata": {},
   "outputs": [],
   "source": [
    "def scraper(data):\n",
    "    \n",
    "    \"\"\"this function scrapes the input data column for country names and adds them to a new list after appending\n",
    "    them with a numerical tag that identifies countries that are pulled from the same text.\"\"\"\n",
    "    \n",
    "    text = [] #initialise empty list to store converted text data in\n",
    "    for i in range(len(data)):\n",
    "        text.append(str(data[i])) #convert data to string to allow pycountry to scrape it and store in list\n",
    "        df = [] # initialise empty list to store scraped country names in\n",
    "        for j in range(len(text)):\n",
    "            for country in pc.countries: #using pycountry to scrape country names\n",
    "                if country.name in text[j]:\n",
    "                    if len(str(j)) == 1: #these if statements add a 5 digit unique identifier to each country name\n",
    "                        index = '0000' + str(j)\n",
    "                    elif len(str(j)) == 2:\n",
    "                             index = '000' + str(j)\n",
    "                    elif len(str(j)) == 3:\n",
    "                             index = '00' + str(j)\n",
    "                    elif len(str(j)) == 4:\n",
    "                             index = '0' + str(j)\n",
    "                    else:\n",
    "                        index = str(j)\n",
    "                        \n",
    "                    df.append(index + country.name)"
   ]
  },
  {
   "cell_type": "code",
   "execution_count": 3,
   "metadata": {},
   "outputs": [],
   "source": [
    "def sort(data, original_array):\n",
    "    \n",
    "    \"\"\"This function loops through the scraped data and deletes countries with non-unique 5-digit identifiers,\n",
    "    leaving just one country per data point in the correspoding original array.\"\"\"\n",
    "\n",
    "    \"\"\"data argument = data passed through scraper function.\"\"\"\n",
    "    \n",
    "    prev_val = None #initialising initial value to compare first 5-digit value to.\n",
    "    lst = [] #initialise empty list to store unique values in.\n",
    "    \n",
    "    for i in range(len(data)):\n",
    "        if data[i][0:5] != prev_val:\n",
    "            lst.append(data[i]) #add element from list of countries if the 5 digit identifier is not the same as prev\n",
    "            prev_val = data[i][0:5] #set compare value to current 5 digit identifier\n",
    "            \n",
    "    indices = []\n",
    "    for j in range(len(lst)): #this for loop stores the identifiers in lst as integers\n",
    "        indices.append(int(lst[j][0:5]))\n",
    "    \n",
    "    #print(indices)\n",
    "    \n",
    "    #creating list of missing indices in indices to ascertain which texts were not successfully scraped for a country\n",
    "    missing = [x for x in range(indices[0], indices[-1]+1) if x not in indices] \n",
    "    if indices[0] != 0: #insert an initial index if first identifier was not already 0\n",
    "        missing.insert(0, 0)\n",
    "        \n",
    "\n",
    "    #print(missing)\n",
    "    \n",
    "        \n",
    "    for j in range(len(missing)):\n",
    "        lst.insert(missing[j], \"Unknown\") #adding \"Unknown\" to list of countries at the missing indexes from lst\n",
    "        \n",
    "    while len(lst) < len(original_array): #appending \"Unknown\" to end of lst until final index matches length of data\n",
    "        lst.append(\"Unknown\")\n",
    "\n",
    "        \n",
    "         \n",
    "    return lst"
   ]
  },
  {
   "cell_type": "code",
   "execution_count": 4,
   "metadata": {},
   "outputs": [],
   "source": [
    "def crosscheck(text1, text2):\n",
    "    \n",
    "    \"\"\"This function iterates through the list of countries scraped from two texts and replaces \"Unknown\" in the first\n",
    "    list with the entry from the second list, if this entry is not \"Unknown\". \"\"\"\n",
    "    \n",
    "    \"\"\"Arguments in this function are already scraped and sorted with the previous functions\"\"\"\n",
    "    \n",
    "    for i in range(len(text1)):\n",
    "        if text1[i] == 'Unknown':\n",
    "            text1[i] = text2[i]\n",
    "    return text1"
   ]
  },
  {
   "cell_type": "code",
   "execution_count": 5,
   "metadata": {},
   "outputs": [],
   "source": [
    "def remove_identity(data):\n",
    "    \n",
    "    \"\"\"This function removes the 5 digit identifiers\"\"\"\n",
    "    \n",
    "    df = []\n",
    "    for i in range(len(data)):\n",
    "        if data[i] == 'Unknown':\n",
    "            df.append(data[i])\n",
    "        else:\n",
    "            df.append(data[i][5:])\n",
    "        \n",
    "    return df"
   ]
  },
  {
   "cell_type": "code",
   "execution_count": 6,
   "metadata": {},
   "outputs": [],
   "source": [
    "def final(data):\n",
    "    \n",
    "    \"\"\"Combining previous functions for ease\"\"\"\n",
    "    \n",
    "    return remove_identity(sort(scraper(data), data))"
   ]
  },
  {
   "cell_type": "code",
   "execution_count": null,
   "metadata": {},
   "outputs": [],
   "source": []
  }
 ],
 "metadata": {
  "kernelspec": {
   "display_name": "Python 3",
   "language": "python",
   "name": "python3"
  },
  "language_info": {
   "codemirror_mode": {
    "name": "ipython",
    "version": 3
   },
   "file_extension": ".py",
   "mimetype": "text/x-python",
   "name": "python",
   "nbconvert_exporter": "python",
   "pygments_lexer": "ipython3",
   "version": "3.8.3"
  }
 },
 "nbformat": 4,
 "nbformat_minor": 4
}
