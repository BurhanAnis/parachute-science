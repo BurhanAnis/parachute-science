{
 "cells": [
  {
   "cell_type": "markdown",
   "metadata": {},
   "source": [
    "# Colonial Practice over time using Gaussian Processes\n",
    "\n",
    "Here we build out a graph showing the practice of colonial science over time. This \"parachute index\" is defined as the number of papers where the First Author Affiliation (FA) does not much study site AND where the FA hdi > 0.9 and study site hdi <0.9, divided by the total number of papers published for given FA in given year. Essentially, we define a ratio of studies completed internally within a very highly developed nation, vs externally in less developed nations. Note that this requires the addition of human development indexes to the scopus export.\n",
    "\n",
    "We then plot these as scatter graphs for various nations and find regressions using Gaussian Process regression.\n",
    "\n",
    "This workbook shows an example for the United Kingdom."
   ]
  },
  {
   "cell_type": "code",
   "execution_count": 1,
   "metadata": {},
   "outputs": [
    {
     "name": "stderr",
     "output_type": "stream",
     "text": [
      "/opt/anaconda3/lib/python3.8/site-packages/pandas/core/computation/expressions.py:20: UserWarning: Pandas requires version '2.7.3' or newer of 'numexpr' (version '2.7.1' currently installed).\n",
      "  from pandas.core.computation.check import NUMEXPR_INSTALLED\n"
     ]
    }
   ],
   "source": [
    "import pandas as pd\n",
    "import matplotlib.pyplot as plt\n",
    "import numpy as np"
   ]
  },
  {
   "cell_type": "code",
   "execution_count": 2,
   "metadata": {},
   "outputs": [],
   "source": [
    "df = pd.read_csv(\"FINAL.csv\")"
   ]
  },
  {
   "cell_type": "code",
   "execution_count": null,
   "metadata": {},
   "outputs": [],
   "source": []
  },
  {
   "cell_type": "code",
   "execution_count": 55,
   "metadata": {},
   "outputs": [],
   "source": [
    "study_country = df['Study Site']\n",
    "affiliation_country = df['First Author Affiliation ']\n",
    "study_hdi = df['Site HDI value']\n",
    "affiliation_hdi = df['First Author HDI value']\n",
    "pub_year = df['Year']"
   ]
  },
  {
   "cell_type": "code",
   "execution_count": 56,
   "metadata": {},
   "outputs": [],
   "source": [
    "df_filtered = df[(study_country != affiliation_country) & (study_hdi < 0.9)]\n"
   ]
  },
  {
   "cell_type": "code",
   "execution_count": 57,
   "metadata": {},
   "outputs": [],
   "source": [
    "df_affiliation = df[affiliation_hdi >= 0.9]"
   ]
  },
  {
   "cell_type": "code",
   "execution_count": 58,
   "metadata": {},
   "outputs": [],
   "source": [
    "df_filtered_grouped = df_filtered.groupby(['Year', 'First Author Affiliation ']).size()\n",
    "df_affiliation_grouped = df_affiliation.groupby(['Year', 'First Author Affiliation ']).size()\n"
   ]
  },
  {
   "cell_type": "code",
   "execution_count": 59,
   "metadata": {},
   "outputs": [],
   "source": [
    "df_combined = pd.concat([df_filtered_grouped, df_affiliation_grouped], axis=1, keys=['filtered_count', 'affiliation_count']).fillna(0)\n",
    "df_combined['ratio'] = df_combined['filtered_count'] / df_combined['affiliation_count']\n"
   ]
  },
  {
   "cell_type": "code",
   "execution_count": 60,
   "metadata": {},
   "outputs": [
    {
     "data": {
      "text/html": [
       "<div>\n",
       "<style scoped>\n",
       "    .dataframe tbody tr th:only-of-type {\n",
       "        vertical-align: middle;\n",
       "    }\n",
       "\n",
       "    .dataframe tbody tr th {\n",
       "        vertical-align: top;\n",
       "    }\n",
       "\n",
       "    .dataframe thead th {\n",
       "        text-align: right;\n",
       "    }\n",
       "</style>\n",
       "<table border=\"1\" class=\"dataframe\">\n",
       "  <thead>\n",
       "    <tr style=\"text-align: right;\">\n",
       "      <th></th>\n",
       "      <th></th>\n",
       "      <th>filtered_count</th>\n",
       "      <th>affiliation_count</th>\n",
       "      <th>ratio</th>\n",
       "    </tr>\n",
       "    <tr>\n",
       "      <th>Year</th>\n",
       "      <th>First Author Affiliation</th>\n",
       "      <th></th>\n",
       "      <th></th>\n",
       "      <th></th>\n",
       "    </tr>\n",
       "  </thead>\n",
       "  <tbody>\n",
       "    <tr>\n",
       "      <th>1967.0</th>\n",
       "      <th>United States</th>\n",
       "      <td>1.0</td>\n",
       "      <td>1.0</td>\n",
       "      <td>1.000000</td>\n",
       "    </tr>\n",
       "    <tr>\n",
       "      <th>1972.0</th>\n",
       "      <th>United States</th>\n",
       "      <td>1.0</td>\n",
       "      <td>6.0</td>\n",
       "      <td>0.166667</td>\n",
       "    </tr>\n",
       "    <tr>\n",
       "      <th>1973.0</th>\n",
       "      <th>Netherlands</th>\n",
       "      <td>1.0</td>\n",
       "      <td>1.0</td>\n",
       "      <td>1.000000</td>\n",
       "    </tr>\n",
       "    <tr>\n",
       "      <th>1974.0</th>\n",
       "      <th>United States</th>\n",
       "      <td>1.0</td>\n",
       "      <td>3.0</td>\n",
       "      <td>0.333333</td>\n",
       "    </tr>\n",
       "    <tr>\n",
       "      <th>1975.0</th>\n",
       "      <th>Netherlands</th>\n",
       "      <td>1.0</td>\n",
       "      <td>2.0</td>\n",
       "      <td>0.500000</td>\n",
       "    </tr>\n",
       "    <tr>\n",
       "      <th>...</th>\n",
       "      <th>...</th>\n",
       "      <td>...</td>\n",
       "      <td>...</td>\n",
       "      <td>...</td>\n",
       "    </tr>\n",
       "    <tr>\n",
       "      <th rowspan=\"5\" valign=\"top\">2022.0</th>\n",
       "      <th>Ireland</th>\n",
       "      <td>0.0</td>\n",
       "      <td>1.0</td>\n",
       "      <td>0.000000</td>\n",
       "    </tr>\n",
       "    <tr>\n",
       "      <th>New Zealand</th>\n",
       "      <td>0.0</td>\n",
       "      <td>1.0</td>\n",
       "      <td>0.000000</td>\n",
       "    </tr>\n",
       "    <tr>\n",
       "      <th>Norway</th>\n",
       "      <td>0.0</td>\n",
       "      <td>3.0</td>\n",
       "      <td>0.000000</td>\n",
       "    </tr>\n",
       "    <tr>\n",
       "      <th>Singapore</th>\n",
       "      <td>0.0</td>\n",
       "      <td>1.0</td>\n",
       "      <td>0.000000</td>\n",
       "    </tr>\n",
       "    <tr>\n",
       "      <th>South Korea</th>\n",
       "      <td>0.0</td>\n",
       "      <td>1.0</td>\n",
       "      <td>0.000000</td>\n",
       "    </tr>\n",
       "  </tbody>\n",
       "</table>\n",
       "<p>960 rows × 3 columns</p>\n",
       "</div>"
      ],
      "text/plain": [
       "                                  filtered_count  affiliation_count     ratio\n",
       "Year   First Author Affiliation                                              \n",
       "1967.0 United States                         1.0                1.0  1.000000\n",
       "1972.0 United States                         1.0                6.0  0.166667\n",
       "1973.0 Netherlands                           1.0                1.0  1.000000\n",
       "1974.0 United States                         1.0                3.0  0.333333\n",
       "1975.0 Netherlands                           1.0                2.0  0.500000\n",
       "...                                          ...                ...       ...\n",
       "2022.0 Ireland                               0.0                1.0  0.000000\n",
       "       New Zealand                           0.0                1.0  0.000000\n",
       "       Norway                                0.0                3.0  0.000000\n",
       "       Singapore                             0.0                1.0  0.000000\n",
       "       South Korea                           0.0                1.0  0.000000\n",
       "\n",
       "[960 rows x 3 columns]"
      ]
     },
     "execution_count": 60,
     "metadata": {},
     "output_type": "execute_result"
    }
   ],
   "source": [
    "df_combined"
   ]
  },
  {
   "cell_type": "code",
   "execution_count": 72,
   "metadata": {},
   "outputs": [],
   "source": [
    "selected_country = 'United Kingdom'  # replace 'USA' with the country you're interested in\n",
    "df_country_specific = df_combined.loc[(slice(None), selected_country), :]\n"
   ]
  },
  {
   "cell_type": "code",
   "execution_count": 73,
   "metadata": {},
   "outputs": [],
   "source": [
    "df_country_specific.reset_index(level='First Author Affiliation ', drop=True, inplace=True)\n"
   ]
  },
  {
   "cell_type": "code",
   "execution_count": 74,
   "metadata": {},
   "outputs": [],
   "source": [
    "df_country_specific = df_country_specific[df_country_specific.index >= 1980]"
   ]
  },
  {
   "cell_type": "code",
   "execution_count": null,
   "metadata": {},
   "outputs": [],
   "source": []
  },
  {
   "cell_type": "code",
   "execution_count": 75,
   "metadata": {},
   "outputs": [
    {
     "data": {
      "image/png": "[encoded data removed]",
      "text/plain": [
       "<Figure size 720x432 with 1 Axes>"
      ]
     },
     "metadata": {
      "needs_background": "light"
     },
     "output_type": "display_data"
    }
   ],
   "source": [
    "\n",
    "\n",
    "plt.figure(figsize=(10,6))\n",
    "plt.scatter(df_country_specific.index, df_country_specific['ratio'], marker='o', linestyle='-')\n",
    "\n",
    "plt.xlabel('Publication Year', fontsize=14)\n",
    "plt.ylabel('Parchute Index', fontsize=14)\n",
    "plt.title('Time Series of PI for ' + selected_country, fontsize=16)\n",
    "plt.grid(True)\n",
    "\n",
    "plt.show()\n"
   ]
  },
  {
   "cell_type": "code",
   "execution_count": 77,
   "metadata": {},
   "outputs": [
    {
     "data": {
      "image/png": "[encoded data removed]",
      "text/plain": [
       "<Figure size 720x432 with 1 Axes>"
      ]
     },
     "metadata": {
      "needs_background": "light"
     },
     "output_type": "display_data"
    }
   ],
   "source": [
    "from sklearn.gaussian_process import GaussianProcessRegressor\n",
    "from sklearn.gaussian_process.kernels import RBF, ConstantKernel as C\n",
    "\n",
    "\n",
    "# Define kernel parameters\n",
    "kernel = C(1.5, (1e-3, 1e3)) * RBF(5, (1e-2, 1e2))\n",
    "\n",
    "# Create a GaussianProcessRegressor object.\n",
    "gpr = GaussianProcessRegressor(kernel=kernel, n_restarts_optimizer=10, alpha=0.01)\n",
    "\n",
    "# Training data\n",
    "X = np.array(df_country_specific.index).reshape(-1, 1)\n",
    "y = df_country_specific['ratio']\n",
    "\n",
    "# Fit to data using Maximum Likelihood Estimation of the parameters\n",
    "gpr.fit(X, y)\n",
    "\n",
    "# Make the prediction on the meshed x-axis (ask for MSE as well)\n",
    "X_pred = np.linspace(X.min(), X.max(), 1000).reshape(-1, 1)\n",
    "y_pred, sigma = gpr.predict(X_pred, return_std=True)\n",
    "\n",
    "# Plot the function, the prediction and the 95% confidence interval\n",
    "plt.figure(figsize=(10,6))\n",
    "plt.scatter(X, y, c='k', label='data')\n",
    "plt.plot(X_pred, y_pred, color='b', label='GPR fit')\n",
    "plt.fill_between(X_pred.ravel(), y_pred - 1.96 * sigma, y_pred + 1.96 * sigma, color='b', alpha=0.2, label='95% confidence interval')\n",
    "plt.xlabel('Publication Year', fontsize=14)\n",
    "plt.ylabel('Ratio', fontsize=14)\n",
    "plt.title('GPR fit for ' + selected_country, fontsize=16)\n",
    "plt.legend()\n",
    "plt.show()\n"
   ]
  },
  {
   "cell_type": "markdown",
   "metadata": {},
   "source": [
    "Essentially, we see that colonial practice as defined by the parachute index seemed to increase for UK researchers between 1990-2010, but now seems to be coming down"
   ]
  },
  {
   "cell_type": "code",
   "execution_count": null,
   "metadata": {},
   "outputs": [],
   "source": []
  }
 ],
 "metadata": {
  "kernelspec": {
   "display_name": "Python 3",
   "language": "python",
   "name": "python3"
  },
  "language_info": {
   "codemirror_mode": {
    "name": "ipython",
    "version": 3
   },
   "file_extension": ".py",
   "mimetype": "text/x-python",
   "name": "python",
   "nbconvert_exporter": "python",
   "pygments_lexer": "ipython3",
   "version": "3.8.3"
  }
 },
 "nbformat": 4,
 "nbformat_minor": 4
}
